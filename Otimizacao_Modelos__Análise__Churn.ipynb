{
  "cells": [
    {
      "cell_type": "markdown",
      "metadata": {
        "id": "IwEE6ToO-C6R"
      },
      "source": [
        "# Modelos Preditivos da Análise de Churn"
      ]
    },
    {
      "cell_type": "markdown",
      "source": [
        "### Contexto do Notebook\n",
        "\n",
        "Este Notebook tem como foco aprimorar os modelos mais eficazes desenvolvidos anteriormente. Para alcançar esse objetivo, iniciaremos com uma cuidadosa seleção de atributos, identificando os mais relevantes para o desempenho do modelo. Em seguida, abordaremos o desbalanceamento de classes, aplicando técnicas adequadas para equilibrar a representação das classes minoritárias, o que é crucial para a precisão das previsões.\n",
        "\n",
        "Com todas essas etapas concluídas, estaremos prontos para selecionar o modelo final, aquele que apresentará o melhor desempenho e estará pronto para ser implantado em ambiente de produção.\n",
        "\n",
        "- ### Detalhes do Notebook\n",
        "\n",
        "Neste notebook, irei realizar as seguintes etapas:\n",
        "\n",
        "1. **Seleção de Atributos:** Identificar e selecionar os atributos mais relevantes para o desempenho do modelo.\n",
        "2. **Tratamento do Desbalanceamento de Classes:** Aplicar técnicas adequadas para lidar com o desbalanceamento de classes, garantindo uma representação mais equilibrada das classes minoritárias.\n",
        "3. **Seleção do Modelo Final:** Avaliar e selecionar o modelo que apresentar o melhor desempenho após a seleção de atributos e tratamento do desbalanceamento.\n",
        "\n",
        "- ### Objetivos\n",
        "\n",
        "1. Selecionar os atributos mais relevantes para o desempenho do modelo.\n",
        "2. Aplicar técnicas para equilibrar o desbalanceamento de classes.\n",
        "3. Selecionar o modelo final com o melhor desempenho.\n",
        "\n",
        "- ### Resultados Esperados\n",
        "\n",
        "Espera-se que, ao final deste Notebook, tenhamos um modelo final aprimorado, com alta precisão na previsão e pronto para ser implantado em ambiente de produção. O modelo deverá apresentar uma representação equilibrada das classes e utilizar os atributos mais relevantes para o desempenho, garantindo uma previsão precisa e eficaz.\n"
      ],
      "metadata": {
        "id": "QOss5n8yFU_O"
      }
    },
    {
      "cell_type": "markdown",
      "metadata": {
        "id": "3zKOvu3oFnp7"
      },
      "source": [
        "## Importação das bibliotecas, base de dados e EDA\n",
        "\n",
        "- Base de dados: https://www.kaggle.com/pavansubhasht/ibm-hr-analytics-attrition-dataset\n"
      ]
    },
    {
      "cell_type": "code",
      "source": [
        "# Visualização e Manipulação dos Dados\n",
        "import pandas as pd\n",
        "import numpy as np\n",
        "import seaborn as sns\n",
        "import matplotlib.pyplot as plt\n",
        "\n",
        "# Importação das métricas de avaliação de modelos\n",
        "from sklearn.metrics import (\n",
        "    accuracy_score, precision_score, recall_score, f1_score, classification_report, confusion_matrix\n",
        ")\n",
        "\n",
        "\n",
        "# Importação das métricas de avaliação de modelos\n",
        "from sklearn.metrics import (\n",
        "    accuracy_score, precision_score, recall_score, f1_score, classification_report, confusion_matrix\n",
        ")\n",
        "\n",
        "# Importação da base de dados\n",
        "base = pd.read_csv('/content/Human_Resources.csv')\n"
      ],
      "metadata": {
        "id": "Iuos7du6D_ar"
      },
      "execution_count": 18,
      "outputs": []
    },
    {
      "cell_type": "code",
      "source": [
        "# Transformando dados categoricos binarios\n",
        "base['Attrition'] = base['Attrition'].apply(lambda x: 1 if x == 'Yes' else 0)\n",
        "base['OverTime'] = base['OverTime'].apply(lambda x: 1 if x == 'Yes' else 0)\n",
        "\n",
        "# Excluindo as colunas que não irão influenciar na análise\n",
        "base.drop(['EmployeeCount', 'StandardHours', 'Over18', 'EmployeeNumber'], axis=1, inplace=True)\n",
        "\n",
        "# Importando o OneHotEncoder\n",
        "from sklearn.preprocessing import OneHotEncoder\n",
        "\n",
        "# Criando o encoder\n",
        "ohe = OneHotEncoder(sparse=False, handle_unknown='ignore', dtype='int32')\n",
        "\n",
        "# Lista das colunas a serem transformadas\n",
        "columns_to_encode = ['BusinessTravel', 'Department', 'EducationField', 'Gender', 'JobRole', 'MaritalStatus']\n",
        "\n",
        "# Iterando sobre as colunas e transformando-as\n",
        "for col in columns_to_encode:\n",
        "    ohe.fit(base[[col]])\n",
        "    ohe_df = pd.DataFrame(ohe.transform(base[[col]]), columns=ohe.get_feature_names_out())\n",
        "    base = pd.concat([base, ohe_df], axis=1)\n",
        "    base.drop([col], axis=1, inplace=True)\n"
      ],
      "metadata": {
        "colab": {
          "base_uri": "https://localhost:8080/"
        },
        "id": "GXw7VY1oFrU3",
        "outputId": "0b9ba7dc-5f51-4cbc-9017-860890fa5ced"
      },
      "execution_count": 19,
      "outputs": [
        {
          "output_type": "stream",
          "name": "stderr",
          "text": [
            "/usr/local/lib/python3.10/dist-packages/sklearn/preprocessing/_encoders.py:868: FutureWarning: `sparse` was renamed to `sparse_output` in version 1.2 and will be removed in 1.4. `sparse_output` is ignored unless you leave `sparse` to its default value.\n",
            "  warnings.warn(\n",
            "/usr/local/lib/python3.10/dist-packages/sklearn/preprocessing/_encoders.py:868: FutureWarning: `sparse` was renamed to `sparse_output` in version 1.2 and will be removed in 1.4. `sparse_output` is ignored unless you leave `sparse` to its default value.\n",
            "  warnings.warn(\n",
            "/usr/local/lib/python3.10/dist-packages/sklearn/preprocessing/_encoders.py:868: FutureWarning: `sparse` was renamed to `sparse_output` in version 1.2 and will be removed in 1.4. `sparse_output` is ignored unless you leave `sparse` to its default value.\n",
            "  warnings.warn(\n",
            "/usr/local/lib/python3.10/dist-packages/sklearn/preprocessing/_encoders.py:868: FutureWarning: `sparse` was renamed to `sparse_output` in version 1.2 and will be removed in 1.4. `sparse_output` is ignored unless you leave `sparse` to its default value.\n",
            "  warnings.warn(\n",
            "/usr/local/lib/python3.10/dist-packages/sklearn/preprocessing/_encoders.py:868: FutureWarning: `sparse` was renamed to `sparse_output` in version 1.2 and will be removed in 1.4. `sparse_output` is ignored unless you leave `sparse` to its default value.\n",
            "  warnings.warn(\n",
            "/usr/local/lib/python3.10/dist-packages/sklearn/preprocessing/_encoders.py:868: FutureWarning: `sparse` was renamed to `sparse_output` in version 1.2 and will be removed in 1.4. `sparse_output` is ignored unless you leave `sparse` to its default value.\n",
            "  warnings.warn(\n"
          ]
        }
      ]
    },
    {
      "cell_type": "code",
      "source": [
        "# Separando previsores e a coluna alvo\n",
        "\n",
        "#Previsores\n",
        "X = base[['BusinessTravel_Non-Travel', 'BusinessTravel_Travel_Frequently',\n",
        "       'BusinessTravel_Travel_Rarely', 'Department_Human Resources',\n",
        "       'Department_Research & Development', 'Department_Sales',\n",
        "       'EducationField_Human Resources', 'EducationField_Life Sciences',\n",
        "       'EducationField_Marketing', 'EducationField_Medical',\n",
        "       'EducationField_Other', 'EducationField_Technical Degree',\n",
        "       'Gender_Female', 'Gender_Male', 'JobRole_Healthcare Representative',\n",
        "       'JobRole_Human Resources', 'JobRole_Laboratory Technician',\n",
        "       'JobRole_Manager', 'JobRole_Manufacturing Director',\n",
        "       'JobRole_Research Director', 'JobRole_Research Scientist',\n",
        "       'JobRole_Sales Executive', 'JobRole_Sales Representative',\n",
        "       'MaritalStatus_Divorced', 'MaritalStatus_Married',\n",
        "       'MaritalStatus_Single','Age', 'DailyRate', 'DistanceFromHome',\n",
        "       'Education', 'EnvironmentSatisfaction', 'HourlyRate', 'JobInvolvement',\n",
        "       'JobLevel', 'JobSatisfaction',\t'MonthlyIncome',\t'MonthlyRate',\t'NumCompaniesWorked',\t'OverTime',\n",
        "       'PercentSalaryHike', 'PerformanceRating',\t'RelationshipSatisfaction',\t'StockOptionLevel',\n",
        "       'TotalWorkingYears'\t,'TrainingTimesLastYear'\t, 'WorkLifeBalance',\t'YearsAtCompany',\n",
        "       'YearsInCurrentRole', 'YearsSinceLastPromotion',\t'YearsWithCurrManager']]\n",
        "\n",
        "#Coluna Alvo\n",
        "y = base['Attrition']\n",
        "\n",
        "#Normalizando os dados para que os algoritmos não considerem alguns atributos mais impotantes que outros:\n",
        "from sklearn.preprocessing import MinMaxScaler\n",
        "scaler = MinMaxScaler()\n",
        "X = scaler.fit_transform(X)\n",
        "\n",
        "# Separando em treino/teste:\n",
        "from sklearn.model_selection import train_test_split\n",
        "X_treino, X_teste, y_treino, y_teste = train_test_split(X , y, test_size = 0.25, random_state=42)"
      ],
      "metadata": {
        "id": "21A1YjBxF3tX"
      },
      "execution_count": 20,
      "outputs": []
    },
    {
      "cell_type": "markdown",
      "metadata": {
        "id": "4F3gI6mqEyUG"
      },
      "source": [
        "### Otimização dos Modelos"
      ]
    },
    {
      "cell_type": "markdown",
      "source": [
        "Nos próximos passos do projeto, pretendo focar em otimizar os modelos de Regressão Logística e XGBoost para melhor identificar os casos de churn em nosso conjunto de dados.\n",
        "\n",
        "Primeiramente, vou realizar uma análise mais detalhada dos atributos disponíveis, selecionando aqueles que são mais relevantes para a predição de churn. Isso ajudará a melhorar a eficiência dos modelos, reduzindo a dimensionalidade dos dados e eliminando atributos desnecessários.\n",
        "\n",
        "Em seguida, devido ao desbalanceamento das classes em nosso conjunto de dados, onde a classe de churn representa apenas 16% dos casos, vou aplicar técnicas de balanceamento de classes. Isso pode incluir o aumento da classe minoritária (oversampling) ou a redução da classe majoritária (undersampling) para equilibrar a distribuição das classes e melhorar o desempenho dos modelos. Optei por não realizar o ajuste de hiperparâmetros para não aumentar a complexidade do projeto e somente o farei se o desempenho do modelo ainda não estiver atingindo patamares satisfatórios.\n",
        "\n",
        "Por fim, salvarei o classificador com melhor desempenho.\n",
        "\n",
        "Esses passos são cruciais para melhorar a capacidade dos modelos de prever casos de churn com maior precisão e recall, o que, por sua vez, contribuirá significativamente para a redução da taxa de churn na empresa."
      ],
      "metadata": {
        "id": "0Pe-LbbuEyUI"
      }
    },
    {
      "cell_type": "markdown",
      "metadata": {
        "id": "grp0UwK0EyUJ"
      },
      "source": [
        "#### Seleção de Atributos"
      ]
    },
    {
      "cell_type": "code",
      "execution_count": 21,
      "metadata": {
        "colab": {
          "base_uri": "https://localhost:8080/"
        },
        "outputId": "3389490c-f790-4a47-bd30-ff3fa11a8a63",
        "id": "FeUKQmUAEyUK"
      },
      "outputs": [
        {
          "output_type": "stream",
          "name": "stdout",
          "text": [
            "['MonthlyIncome', 'OverTime', 'Age', 'DailyRate', 'TotalWorkingYears', 'MonthlyRate', 'HourlyRate', 'DistanceFromHome', 'YearsAtCompany', 'NumCompaniesWorked', 'PercentSalaryHike', 'YearsInCurrentRole', 'StockOptionLevel', 'YearsWithCurrManager', 'YearsSinceLastPromotion', 'TrainingTimesLastYear', 'JobLevel', 'EnvironmentSatisfaction', 'JobSatisfaction', 'RelationshipSatisfaction']\n"
          ]
        }
      ],
      "source": [
        "# Importando o RandomForestClassifier\n",
        "from sklearn.ensemble import RandomForestClassifier\n",
        "\n",
        "# Selecionando as features e o target\n",
        "X = base.drop('Attrition', axis=1)\n",
        "y = base['Attrition']\n",
        "\n",
        "# Dividindo os dados em conjunto de treino e teste\n",
        "X_treino, X_teste, y_treino, y_teste = train_test_split(X, y, test_size=0.25, random_state=42)\n",
        "\n",
        "# Criando o modelo Random Forest\n",
        "rf = RandomForestClassifier(n_estimators=100, random_state=42)\n",
        "rf.fit(X_treino, y_treino)\n",
        "\n",
        "# Obtendo a importância das features\n",
        "feature_importances = pd.DataFrame(rf.feature_importances_, index=X.columns, columns=['importance']).sort_values('importance', ascending=False)\n",
        "\n",
        "# Obtendo as 20 features mais importantes\n",
        "top_features = feature_importances.head(20).index.tolist()\n",
        "\n",
        "# Exibindo a lista de features mais importantes\n",
        "print(top_features)"
      ]
    },
    {
      "cell_type": "code",
      "execution_count": 22,
      "metadata": {
        "id": "ACgxQxG-EyUN"
      },
      "outputs": [],
      "source": [
        "# Previsores\n",
        "X_selecionado = base[['MonthlyIncome', 'OverTime', 'Age', 'DailyRate', 'TotalWorkingYears', 'MonthlyRate', 'HourlyRate', 'DistanceFromHome', 'YearsAtCompany', 'NumCompaniesWorked', 'PercentSalaryHike', 'YearsInCurrentRole', 'StockOptionLevel', 'YearsWithCurrManager', 'YearsSinceLastPromotion', 'TrainingTimesLastYear', 'JobLevel', 'EnvironmentSatisfaction', 'JobSatisfaction', 'RelationshipSatisfaction']]\n",
        "\n",
        "# Coluna Alvo\n",
        "y_selecionado = base['Attrition']\n",
        "\n",
        "#Normalizando os dados para que os algoritmos não considerem alguns atributos mais impotantes que outros:\n",
        "from sklearn.preprocessing import MinMaxScaler\n",
        "scaler = MinMaxScaler()\n",
        "X_selecionado = scaler.fit_transform(X_selecionado)\n",
        "\n",
        "# Separando em treino/teste:\n",
        "from sklearn.model_selection import train_test_split\n",
        "X_treino_selecionado, X_teste_selecionado, y_treino_selecionado, y_teste_selecionado = train_test_split(X_selecionado, y_selecionado, test_size=0.25, random_state=1)\n",
        "\n"
      ]
    },
    {
      "cell_type": "markdown",
      "source": [
        "##### Regressão Logística"
      ],
      "metadata": {
        "id": "Ea7vzA2zEyUP"
      }
    },
    {
      "cell_type": "code",
      "source": [
        "# Importando o modelo de Regressão Logística\n",
        "from sklearn.linear_model import LogisticRegression\n",
        "\n",
        "# Criando o modelo de Regressão Logística\n",
        "log_reg = LogisticRegression(random_state=42)\n",
        "\n",
        "# Treinando o modelo\n",
        "log_reg.fit(X_treino_selecionado, y_treino_selecionado)\n",
        "\n",
        "# Fazendo previsões\n",
        "y_pred = log_reg.predict(X_teste_selecionado)\n",
        "\n",
        "# Exibindo o relatório de classificação\n",
        "print(classification_report(y_teste_selecionado, y_pred))"
      ],
      "metadata": {
        "colab": {
          "base_uri": "https://localhost:8080/"
        },
        "outputId": "4d2ed9b5-b9c2-4dff-b13f-d2a1289d8ecc",
        "id": "15hEkl1-EyUQ"
      },
      "execution_count": 23,
      "outputs": [
        {
          "output_type": "stream",
          "name": "stdout",
          "text": [
            "              precision    recall  f1-score   support\n",
            "\n",
            "           0       0.85      0.99      0.92       300\n",
            "           1       0.85      0.25      0.39        68\n",
            "\n",
            "    accuracy                           0.85       368\n",
            "   macro avg       0.85      0.62      0.65       368\n",
            "weighted avg       0.85      0.85      0.82       368\n",
            "\n"
          ]
        }
      ]
    },
    {
      "cell_type": "markdown",
      "source": [
        "##### XGBoost"
      ],
      "metadata": {
        "id": "fhurqDGUEyUS"
      }
    },
    {
      "cell_type": "code",
      "source": [
        "from xgboost import XGBClassifier\n",
        "\n",
        "# Criando o modelo XGBoost\n",
        "xgb = XGBClassifier(random_state=42)\n",
        "\n",
        "# Treinando o modelo\n",
        "xgb.fit(X_treino_selecionado, y_treino_selecionado)\n",
        "\n",
        "# Fazendo previsões\n",
        "y_pred = xgb.predict(X_teste_selecionado)\n",
        "\n",
        "# Fazendo previsões\n",
        "y_pred = xgb.predict(X_teste_selecionado)\n",
        "\n",
        "# Exibindo o relatório de classificação\n",
        "print(classification_report(y_teste_selecionado, y_pred))"
      ],
      "metadata": {
        "colab": {
          "base_uri": "https://localhost:8080/"
        },
        "outputId": "9bcabf8d-ea21-4ba3-f7d2-22c067c23980",
        "id": "CcpuhtOlEyUU"
      },
      "execution_count": 24,
      "outputs": [
        {
          "output_type": "stream",
          "name": "stdout",
          "text": [
            "              precision    recall  f1-score   support\n",
            "\n",
            "           0       0.86      0.96      0.91       300\n",
            "           1       0.66      0.31      0.42        68\n",
            "\n",
            "    accuracy                           0.84       368\n",
            "   macro avg       0.76      0.64      0.66       368\n",
            "weighted avg       0.82      0.84      0.82       368\n",
            "\n"
          ]
        }
      ]
    },
    {
      "cell_type": "markdown",
      "source": [
        "Observa-se que a seleção de classes impactou negativamente o desempenho do modelo de regressão logística, possivelmente devido à redução do recall (Antes era de 0.4 e agora 0,31). Por outro lado, no XGBoost, houve uma manutenção no desempenho da métrica f1_score e também no recall. O diferencial está na acurácia final, na qual o XGBoost sem seleção (89%) supera o com seleção de features (84%). Portanto, mesmo com essa tentativa, optamos por manter os algoritmos iniciais, sem tratamento de atributos."
      ],
      "metadata": {
        "id": "eIZQ4WiREyUX"
      }
    },
    {
      "cell_type": "markdown",
      "source": [
        "Ao decorrer dessa criação dos modelos preditivos, mesmo após a seleção cuidadosa de atributos e a aplicação de algoritmos específicos, observamos que o desempenho dos modelos em identificar o churn ainda não atingiu um nível satisfatório. Diante desse cenário, a próxima etapa do projeto consistirá em empregar técnicas de balanceamento artificial das classes, visando melhorar a performance dos modelos e aprimorar a identificação dos casos de churn."
      ],
      "metadata": {
        "id": "l_9ldGDmAOzJ"
      }
    },
    {
      "cell_type": "markdown",
      "source": [
        "#### Balanceamento de Classes"
      ],
      "metadata": {
        "id": "lYGxCXpkEyUZ"
      }
    },
    {
      "cell_type": "markdown",
      "source": [
        "\n",
        "O balanceamento de classes é importante em modelos de machine learning porque ajuda a lidar com conjuntos de dados onde uma classe é significativamente menor em quantidade do que outra. Isso evita viés nos modelos, garantindo que eles aprendam padrões de todas as classes de forma equilibrada e não somente aprenda mais a classe mais dominante e acabe não acertando tanto a não dominante.\n",
        "\n",
        "Usaremos duas técnicas de balanceamento de classes: **Undersampling** e **Oversampling**\n",
        "\n",
        "- Undersampling (**NearMiss**): Esta técnica reduz a quantidade de instâncias da classe majoritária (classe 0) para equilibrar com a classe minoritária (classe 1). O algoritmo NearMiss seleciona instâncias da classe majoritária que são próximas das instâncias da classe minoritária, mantendo a representatividade dos dados. Isso reduz a predominância da classe majoritária, permitindo que o modelo aprenda de forma mais equilibrada a detectar o churn.\n",
        "\n",
        "- Oversampling (**SMOTE**): Ao contrário do undersampling, o oversampling aumenta a quantidade de instâncias da classe minoritária. O SMOTE cria instâncias sintéticas da classe minoritária com base nas instâncias existentes, ampliando assim a representatividade dessa classe no conjunto de dados. Isso ajuda o modelo a aprender melhor os padrões da classe minoritária, melhorando sua capacidade de detectar o churn com precisão.\n",
        "\n",
        "\n",
        "No entanto, é importante destacar que devemos considerar o método de balanceamento class_weight, o qual realiza um ajuste nos pesos das classes majoritária e minoritária sem a necessidade de remoção ou criação sintética de dados. Isso é particularmente preferível, pois métodos sintéticos podem, por vezes, resultar na perda de dados significativos ou introduzir ruídos nos dados existentes. Dado que este projeto é de estudo, caso não obtenhamos um desempenho satisfatório com o uso do método class_weight, planejamos recorrer às outras técnicas disponíveis, como oversampling e undersampling."
      ],
      "metadata": {
        "id": "J1bn0zbM_-Aj"
      }
    },
    {
      "cell_type": "markdown",
      "source": [
        "##### Usando 'class_weight'"
      ],
      "metadata": {
        "id": "T7DOUkneTKWJ"
      }
    },
    {
      "cell_type": "code",
      "source": [
        "# Criando uma instância do modelo de regressão logística com o parâmetro class_weight='balanced'\n",
        "rl = LogisticRegression(class_weight='balanced', random_state=42)\n",
        "\n",
        "# Separando previsores e a coluna alvo\n",
        "\n",
        "# Previsores\n",
        "X = base[['BusinessTravel_Non-Travel', 'BusinessTravel_Travel_Frequently',\n",
        "       'BusinessTravel_Travel_Rarely', 'Department_Human Resources',\n",
        "       'Department_Research & Development', 'Department_Sales',\n",
        "       'EducationField_Human Resources', 'EducationField_Life Sciences',\n",
        "       'EducationField_Marketing', 'EducationField_Medical',\n",
        "       'EducationField_Other', 'EducationField_Technical Degree',\n",
        "       'Gender_Female', 'Gender_Male', 'JobRole_Healthcare Representative',\n",
        "       'JobRole_Human Resources', 'JobRole_Laboratory Technician',\n",
        "       'JobRole_Manager', 'JobRole_Manufacturing Director',\n",
        "       'JobRole_Research Director', 'JobRole_Research Scientist',\n",
        "       'JobRole_Sales Executive', 'JobRole_Sales Representative',\n",
        "       'MaritalStatus_Divorced', 'MaritalStatus_Married',\n",
        "       'MaritalStatus_Single','Age', 'DailyRate', 'DistanceFromHome',\n",
        "       'Education', 'EnvironmentSatisfaction', 'HourlyRate', 'JobInvolvement',\n",
        "       'JobLevel', 'JobSatisfaction', 'MonthlyIncome', 'MonthlyRate',\n",
        "       'NumCompaniesWorked', 'OverTime', 'PercentSalaryHike',\n",
        "       'PerformanceRating', 'RelationshipSatisfaction', 'StockOptionLevel',\n",
        "       'TotalWorkingYears', 'TrainingTimesLastYear', 'WorkLifeBalance',\n",
        "       'YearsAtCompany', 'YearsInCurrentRole', 'YearsSinceLastPromotion',\n",
        "       'YearsWithCurrManager']]\n",
        "\n",
        "# Coluna Alvo\n",
        "y = base['Attrition']\n",
        "\n",
        "# Normalizando os dados para que os algoritmos não considerem alguns atributos mais importantes que outros:\n",
        "from sklearn.preprocessing import MinMaxScaler\n",
        "scaler = MinMaxScaler()\n",
        "X = scaler.fit_transform(X)\n",
        "\n",
        "# Separando em treino/teste\n",
        "from sklearn.model_selection import train_test_split\n",
        "X_treino, X_teste, y_treino, y_teste = train_test_split(X , y, test_size=0.25, random_state=42)\n",
        "\n",
        "# Treinando o modelo\n",
        "rl.fit(X_treino, y_treino)\n",
        "\n",
        "# Fazendo previsões\n",
        "y_pred = rl.predict(X_teste)\n",
        "\n",
        "# Imprimindo o relatório de classificação e a matriz de confusão\n",
        "print(classification_report(y_teste, y_pred))\n",
        "print('-'*20)\n",
        "print(pd.crosstab(y_teste, y_pred, rownames=['Real'], colnames=['Predito'], margins=True))\n"
      ],
      "metadata": {
        "colab": {
          "base_uri": "https://localhost:8080/"
        },
        "id": "l0TTA2QKTTGn",
        "outputId": "eeb74236-929c-4a35-8dea-01f04a7a6962"
      },
      "execution_count": 25,
      "outputs": [
        {
          "output_type": "stream",
          "name": "stdout",
          "text": [
            "              precision    recall  f1-score   support\n",
            "\n",
            "           0       0.93      0.78      0.85       320\n",
            "           1       0.30      0.62      0.41        48\n",
            "\n",
            "    accuracy                           0.76       368\n",
            "   macro avg       0.62      0.70      0.63       368\n",
            "weighted avg       0.85      0.76      0.79       368\n",
            "\n",
            "--------------------\n",
            "Predito    0    1  All\n",
            "Real                  \n",
            "0        250   70  320\n",
            "1         18   30   48\n",
            "All      268  100  368\n"
          ]
        }
      ]
    },
    {
      "cell_type": "markdown",
      "source": [
        "Observa-se uma melhoria no recall e f1-score para a classe minoritária; no entanto, os resultados ainda não são satisfatórios. Desejo identificar pelo menos 70% dos casos de churn e, por isso, prosseguirei para usar os métodos de oversampling e undersampling."
      ],
      "metadata": {
        "id": "iPH8WEyATbNA"
      }
    },
    {
      "cell_type": "markdown",
      "source": [
        "##### Undersampling"
      ],
      "metadata": {
        "id": "_UYiEMfu2FRw"
      }
    },
    {
      "cell_type": "markdown",
      "source": [
        "###### Regressão Logística"
      ],
      "metadata": {
        "id": "tGwBfZ5e23oN"
      }
    },
    {
      "cell_type": "code",
      "source": [
        "# Separando previsores e a coluna alvo\n",
        "\n",
        "# Previsores\n",
        "X = base[['BusinessTravel_Non-Travel', 'BusinessTravel_Travel_Frequently',\n",
        "       'BusinessTravel_Travel_Rarely', 'Department_Human Resources',\n",
        "       'Department_Research & Development', 'Department_Sales',\n",
        "       'EducationField_Human Resources', 'EducationField_Life Sciences',\n",
        "       'EducationField_Marketing', 'EducationField_Medical',\n",
        "       'EducationField_Other', 'EducationField_Technical Degree',\n",
        "       'Gender_Female', 'Gender_Male', 'JobRole_Healthcare Representative',\n",
        "       'JobRole_Human Resources', 'JobRole_Laboratory Technician',\n",
        "       'JobRole_Manager', 'JobRole_Manufacturing Director',\n",
        "       'JobRole_Research Director', 'JobRole_Research Scientist',\n",
        "       'JobRole_Sales Executive', 'JobRole_Sales Representative',\n",
        "       'MaritalStatus_Divorced', 'MaritalStatus_Married',\n",
        "       'MaritalStatus_Single','Age', 'DailyRate', 'DistanceFromHome',\n",
        "       'Education', 'EnvironmentSatisfaction', 'HourlyRate', 'JobInvolvement',\n",
        "       'JobLevel', 'JobSatisfaction', 'MonthlyIncome', 'MonthlyRate',\n",
        "       'NumCompaniesWorked', 'OverTime', 'PercentSalaryHike',\n",
        "       'PerformanceRating', 'RelationshipSatisfaction', 'StockOptionLevel',\n",
        "       'TotalWorkingYears', 'TrainingTimesLastYear', 'WorkLifeBalance',\n",
        "       'YearsAtCompany', 'YearsInCurrentRole', 'YearsSinceLastPromotion',\n",
        "       'YearsWithCurrManager']]\n",
        "\n",
        "# Coluna Alvo\n",
        "y = base['Attrition']\n",
        "\n",
        "# Normalizando os dados para que os algoritmos não considerem alguns atributos mais importantes que outros:\n",
        "from sklearn.preprocessing import MinMaxScaler\n",
        "scaler = MinMaxScaler()\n",
        "X = scaler.fit_transform(X)\n",
        "\n",
        "# Criando o modelo de Regressão Logística\n",
        "rl = LogisticRegression(random_state=42)\n",
        "\n",
        "# Usando NearMiss para balancear as classes\n",
        "from imblearn.under_sampling import NearMiss\n",
        "nr = NearMiss()\n",
        "X, y = nr.fit_resample(X, y)\n",
        "\n",
        "# Separando em treino/teste\n",
        "from sklearn.model_selection import train_test_split\n",
        "X_treino, X_teste, y_treino, y_teste = train_test_split(X , y, test_size=0.25, random_state=42)\n",
        "\n",
        "# Treinando o modelo\n",
        "rl.fit(X_treino, y_treino)\n",
        "\n",
        "# Fazendo previsões\n",
        "y_pred = rl.predict(X_teste)\n",
        "\n",
        "# Imprimindo o relatório de classificação e a matriz de confusão\n",
        "print(classification_report(y_teste, y_pred))\n",
        "print('-'*20)\n",
        "print(pd.crosstab(y_teste, y_pred, rownames=['Real'], colnames=['Predito'], margins=True))\n"
      ],
      "metadata": {
        "colab": {
          "base_uri": "https://localhost:8080/"
        },
        "id": "EQvhY3zgxFcV",
        "outputId": "38cacc1c-18d4-4bf2-b34a-a70bdd831b3e"
      },
      "execution_count": 26,
      "outputs": [
        {
          "output_type": "stream",
          "name": "stdout",
          "text": [
            "              precision    recall  f1-score   support\n",
            "\n",
            "           0       0.78      0.78      0.78        59\n",
            "           1       0.78      0.78      0.78        60\n",
            "\n",
            "    accuracy                           0.78       119\n",
            "   macro avg       0.78      0.78      0.78       119\n",
            "weighted avg       0.78      0.78      0.78       119\n",
            "\n",
            "--------------------\n",
            "Predito   0   1  All\n",
            "Real                \n",
            "0        46  13   59\n",
            "1        13  47   60\n",
            "All      59  60  119\n"
          ]
        }
      ]
    },
    {
      "cell_type": "markdown",
      "source": [
        "Agora vamos verificar a possível existêcia de **Overfeating**.\n",
        "\n",
        "**OBS:**\n",
        "Verificar o overfitting em modelos de machine learning é essencial para garantir que o modelo generalize bem para novos dados e evite conclusões errôneas. Isso é importante para garantir a confiabilidade do modelo, seu desempenho em diferentes conjuntos de dados e sua utilidade na tomada de decisões."
      ],
      "metadata": {
        "id": "ZH-ZrZrCxtdF"
      }
    },
    {
      "cell_type": "code",
      "source": [
        "# Impotando 'learning_curve', usada para criar curvas de aprendizado em modelos de machine learning\n",
        "from sklearn.model_selection import learning_curve\n",
        "\n",
        "# Função para plotar curvas de aprendizado\n",
        "def plot_learning_curve(estimator, title, X, y, ylim=None, cv=None, n_jobs=None, train_sizes=np.linspace(.1, 1.0, 5)):\n",
        "    plt.figure()\n",
        "    plt.title(title)\n",
        "    if ylim is not None:\n",
        "        plt.ylim(*ylim)\n",
        "    plt.xlabel(\"Exemplos de Treino\")\n",
        "    plt.ylabel(\"Score\")\n",
        "    train_sizes, train_scores, test_scores = learning_curve(\n",
        "        estimator, X, y, cv=cv, n_jobs=n_jobs, train_sizes=train_sizes)\n",
        "    train_scores_mean = np.mean(train_scores, axis=1)\n",
        "    train_scores_std = np.std(train_scores, axis=1)\n",
        "    test_scores_mean = np.mean(test_scores, axis=1)\n",
        "    test_scores_std = np.std(test_scores, axis=1)\n",
        "    plt.grid()\n",
        "\n",
        "    plt.fill_between(train_sizes, train_scores_mean - train_scores_std,\n",
        "                     train_scores_mean + train_scores_std, alpha=0.1,\n",
        "                     color=\"r\")\n",
        "    plt.fill_between(train_sizes, test_scores_mean - test_scores_std,\n",
        "                     test_scores_mean + test_scores_std, alpha=0.1, color=\"g\")\n",
        "    plt.plot(train_sizes, train_scores_mean, 'o-', color=\"r\",\n",
        "             label=\"Score de Treino\")\n",
        "    plt.plot(train_sizes, test_scores_mean, 'o-', color=\"g\",\n",
        "             label=\"Score de Validação Cruzada\")\n",
        "\n",
        "    plt.legend(loc=\"best\")\n",
        "    return plt\n",
        "\n",
        "# Calcula curvas de aprendizado\n",
        "title = \"Curvas de aprendizado (Regressão Logística)\"\n",
        "plot_learning_curve(rl, title, X, y, cv=5, n_jobs=-1)\n",
        "plt.show()\n",
        "\n",
        "# Calcula e imprime métricas de desempenho\n",
        "from sklearn.metrics import accuracy_score, precision_score, recall_score, f1_score\n",
        "y_train_pred = rl.predict(X_treino)\n",
        "y_test_pred = rl.predict(X_teste)\n",
        "\n",
        "print(\"Métricas de desempenho nos dados de treino:\")\n",
        "print(\"Accuracy:\", accuracy_score(y_treino, y_train_pred))\n",
        "print(\"Precision:\", precision_score(y_treino, y_train_pred))\n",
        "print(\"Recall:\", recall_score(y_treino, y_train_pred))\n",
        "print(\"F1 Score:\", f1_score(y_treino, y_train_pred))\n",
        "\n",
        "print(\"\\nMétricas de desempenho nos dados de teste:\")\n",
        "print(\"Accuracy:\", accuracy_score(y_teste, y_test_pred))\n",
        "print(\"Precision:\", precision_score(y_teste, y_test_pred))\n",
        "print(\"Recall:\", recall_score(y_teste, y_test_pred))\n",
        "print(\"F1 Score:\", f1_score(y_teste, y_test_pred))\n"
      ],
      "metadata": {
        "colab": {
          "base_uri": "https://localhost:8080/",
          "height": 672
        },
        "id": "PTziErTRxcxf",
        "outputId": "771281bf-e803-4139-d1ad-a9717b11436b"
      },
      "execution_count": 27,
      "outputs": [
        {
          "output_type": "display_data",
          "data": {
            "text/plain": [
              "<Figure size 640x480 with 1 Axes>"
            ],
            "image/png": "[encoded data removed]"
          },
          "metadata": {}
        },
        {
          "output_type": "stream",
          "name": "stdout",
          "text": [
            "Métricas de desempenho nos dados de treino:\n",
            "Accuracy: 0.7943661971830986\n",
            "Precision: 0.7921348314606742\n",
            "Recall: 0.7966101694915254\n",
            "F1 Score: 0.7943661971830986\n",
            "\n",
            "Métricas de desempenho nos dados de teste:\n",
            "Accuracy: 0.7815126050420168\n",
            "Precision: 0.7833333333333333\n",
            "Recall: 0.7833333333333333\n",
            "F1 Score: 0.7833333333333333\n"
          ]
        }
      ]
    },
    {
      "cell_type": "markdown",
      "source": [
        "Como o desempenho de treino e de teste estão semelhantes, **não há Overfeating**."
      ],
      "metadata": {
        "id": "WO789X3FxzWO"
      }
    },
    {
      "cell_type": "markdown",
      "source": [
        "###### XGBoost"
      ],
      "metadata": {
        "id": "coRPKP4e3Jef"
      }
    },
    {
      "cell_type": "code",
      "source": [
        "# Separando previsores e a coluna alvo\n",
        "\n",
        "# Previsores\n",
        "X = base[['BusinessTravel_Non-Travel', 'BusinessTravel_Travel_Frequently',\n",
        "       'BusinessTravel_Travel_Rarely', 'Department_Human Resources',\n",
        "       'Department_Research & Development', 'Department_Sales',\n",
        "       'EducationField_Human Resources', 'EducationField_Life Sciences',\n",
        "       'EducationField_Marketing', 'EducationField_Medical',\n",
        "       'EducationField_Other', 'EducationField_Technical Degree',\n",
        "       'Gender_Female', 'Gender_Male', 'JobRole_Healthcare Representative',\n",
        "       'JobRole_Human Resources', 'JobRole_Laboratory Technician',\n",
        "       'JobRole_Manager', 'JobRole_Manufacturing Director',\n",
        "       'JobRole_Research Director', 'JobRole_Research Scientist',\n",
        "       'JobRole_Sales Executive', 'JobRole_Sales Representative',\n",
        "       'MaritalStatus_Divorced', 'MaritalStatus_Married',\n",
        "       'MaritalStatus_Single','Age', 'DailyRate', 'DistanceFromHome',\n",
        "       'Education', 'EnvironmentSatisfaction', 'HourlyRate', 'JobInvolvement',\n",
        "       'JobLevel', 'JobSatisfaction', 'MonthlyIncome', 'MonthlyRate',\n",
        "       'NumCompaniesWorked', 'OverTime', 'PercentSalaryHike',\n",
        "       'PerformanceRating', 'RelationshipSatisfaction', 'StockOptionLevel',\n",
        "       'TotalWorkingYears', 'TrainingTimesLastYear', 'WorkLifeBalance',\n",
        "       'YearsAtCompany', 'YearsInCurrentRole', 'YearsSinceLastPromotion',\n",
        "       'YearsWithCurrManager']]\n",
        "\n",
        "# Coluna Alvo\n",
        "y = base['Attrition']\n",
        "\n",
        "# Normalizando os dados para que os algoritmos não considerem alguns atributos mais importantes que outros:\n",
        "from sklearn.preprocessing import MinMaxScaler\n",
        "scaler = MinMaxScaler()\n",
        "X = scaler.fit_transform(X)\n",
        "\n",
        "# Criando o modelo XGBoost\n",
        "xgb = XGBClassifier(random_state=42)\n",
        "\n",
        "# Criando o NearMiss para balanceamento das classes\n",
        "from imblearn.under_sampling import NearMiss\n",
        "nr = NearMiss()\n",
        "X, y = nr.fit_resample(X, y)\n",
        "\n",
        "# Separando em treino/teste\n",
        "from sklearn.model_selection import train_test_split\n",
        "X_treino, X_teste, y_treino, y_teste = train_test_split(X , y, test_size=0.25, random_state=42)\n",
        "\n",
        "# Treinando o modelo\n",
        "xgb.fit(X_treino, y_treino)\n",
        "\n",
        "# Fazendo previsões\n",
        "y_pred = xgb.predict(X_teste)\n",
        "\n",
        "# Imprimindo o relatório de classificação e a matriz de confusão\n",
        "print(classification_report(y_teste, y_pred))\n",
        "print('-' * 20)\n",
        "print(pd.crosstab(y_teste, y_pred, rownames=['Real'], colnames=['Predito'], margins=True))\n"
      ],
      "metadata": {
        "colab": {
          "base_uri": "https://localhost:8080/"
        },
        "id": "TbjOAWS5469M",
        "outputId": "483a4bb2-6fbd-450c-f6e4-af5934ce36f3"
      },
      "execution_count": 28,
      "outputs": [
        {
          "output_type": "stream",
          "name": "stdout",
          "text": [
            "              precision    recall  f1-score   support\n",
            "\n",
            "           0       0.77      0.69      0.73        59\n",
            "           1       0.73      0.80      0.76        60\n",
            "\n",
            "    accuracy                           0.75       119\n",
            "   macro avg       0.75      0.75      0.75       119\n",
            "weighted avg       0.75      0.75      0.75       119\n",
            "\n",
            "--------------------\n",
            "Predito   0   1  All\n",
            "Real                \n",
            "0        41  18   59\n",
            "1        12  48   60\n",
            "All      53  66  119\n"
          ]
        }
      ]
    },
    {
      "cell_type": "markdown",
      "source": [
        "Verifcando o Overfeating:"
      ],
      "metadata": {
        "id": "C1jlQfKjx_ao"
      }
    },
    {
      "cell_type": "code",
      "source": [
        "# Função para plotar curvas de aprendizado\n",
        "def plot_learning_curve(estimator, title, X, y, ylim=None, cv=None, n_jobs=None, train_sizes=np.linspace(.1, 1.0, 5)):\n",
        "    plt.figure()\n",
        "    plt.title(title)\n",
        "    if ylim is not None:\n",
        "        plt.ylim(*ylim)\n",
        "    plt.xlabel(\"Exemplos de Treino\")\n",
        "    plt.ylabel(\"Score\")\n",
        "    train_sizes, train_scores, test_scores = learning_curve(\n",
        "        estimator, X, y, cv=cv, n_jobs=n_jobs, train_sizes=train_sizes)\n",
        "    train_scores_mean = np.mean(train_scores, axis=1)\n",
        "    train_scores_std = np.std(train_scores, axis=1)\n",
        "    test_scores_mean = np.mean(test_scores, axis=1)\n",
        "    test_scores_std = np.std(test_scores, axis=1)\n",
        "    plt.grid()\n",
        "\n",
        "    plt.fill_between(train_sizes, train_scores_mean - train_scores_std,\n",
        "                     train_scores_mean + train_scores_std, alpha=0.1,\n",
        "                     color=\"r\")\n",
        "    plt.fill_between(train_sizes, test_scores_mean - test_scores_std,\n",
        "                     test_scores_mean + test_scores_std, alpha=0.1, color=\"g\")\n",
        "    plt.plot(train_sizes, train_scores_mean, 'o-', color=\"r\",\n",
        "             label=\"Score de Treino\")\n",
        "    plt.plot(train_sizes, test_scores_mean, 'o-', color=\"g\",\n",
        "             label=\"Score de Validação Cruzada\")\n",
        "\n",
        "    plt.legend(loc=\"best\")\n",
        "    return plt\n",
        "\n",
        "# Calcula curvas de aprendizado\n",
        "title = \"Curvas de Aprendizado (XGBoost com NearMiss)\"\n",
        "plot_learning_curve(xgb, title, X, y, cv=5, n_jobs=-1)\n",
        "plt.show()\n",
        "\n",
        "# Calcula e imprime métricas de desempenho\n",
        "y_train_pred = xgb.predict(X_treino)\n",
        "y_test_pred = xgb.predict(X_teste)\n",
        "\n",
        "print(\"Métricas de desempenho nos dados de treino:\")\n",
        "print(\"Accuracy:\", accuracy_score(y_treino, y_train_pred))\n",
        "print(\"Precision:\", precision_score(y_treino, y_train_pred))\n",
        "print(\"Recall:\", recall_score(y_treino, y_train_pred))\n",
        "print(\"F1 Score:\", f1_score(y_treino, y_train_pred))\n",
        "\n",
        "print(\"\\nMétricas de desempenho nos dados de teste:\")\n",
        "print(\"Accuracy:\", accuracy_score(y_teste, y_test_pred))\n",
        "print(\"Precision:\", precision_score(y_teste, y_test_pred))\n",
        "print(\"Recall:\", recall_score(y_teste, y_test_pred))\n",
        "print(\"F1 Score:\", f1_score(y_teste, y_test_pred))\n"
      ],
      "metadata": {
        "colab": {
          "base_uri": "https://localhost:8080/",
          "height": 672
        },
        "id": "_qdDHeegxKvu",
        "outputId": "ee2aaf66-7378-49fe-d0fd-427910c8a6b7"
      },
      "execution_count": 29,
      "outputs": [
        {
          "output_type": "display_data",
          "data": {
            "text/plain": [
              "<Figure size 640x480 with 1 Axes>"
            ],
            "image/png": "[encoded data removed]"
          },
          "metadata": {}
        },
        {
          "output_type": "stream",
          "name": "stdout",
          "text": [
            "Métricas de desempenho nos dados de treino:\n",
            "Accuracy: 1.0\n",
            "Precision: 1.0\n",
            "Recall: 1.0\n",
            "F1 Score: 1.0\n",
            "\n",
            "Métricas de desempenho nos dados de teste:\n",
            "Accuracy: 0.7478991596638656\n",
            "Precision: 0.7272727272727273\n",
            "Recall: 0.8\n",
            "F1 Score: 0.761904761904762\n"
          ]
        }
      ]
    },
    {
      "cell_type": "markdown",
      "source": [
        "Como há uma grande diferença entre as bases de treino e teste, é possível concluir que há **Overfeating**"
      ],
      "metadata": {
        "id": "RmCClQljyC4k"
      }
    },
    {
      "cell_type": "markdown",
      "source": [
        "##### Oversampling"
      ],
      "metadata": {
        "id": "b94TIDKv3DXe"
      }
    },
    {
      "cell_type": "markdown",
      "source": [
        "###### Regressão Logística"
      ],
      "metadata": {
        "id": "UeioKSsT8hV5"
      }
    },
    {
      "cell_type": "code",
      "source": [
        "# Separando previsores e a coluna alvo\n",
        "\n",
        "# Previsores\n",
        "X = base[['BusinessTravel_Non-Travel', 'BusinessTravel_Travel_Frequently',\n",
        "       'BusinessTravel_Travel_Rarely', 'Department_Human Resources',\n",
        "       'Department_Research & Development', 'Department_Sales',\n",
        "       'EducationField_Human Resources', 'EducationField_Life Sciences',\n",
        "       'EducationField_Marketing', 'EducationField_Medical',\n",
        "       'EducationField_Other', 'EducationField_Technical Degree',\n",
        "       'Gender_Female', 'Gender_Male', 'JobRole_Healthcare Representative',\n",
        "       'JobRole_Human Resources', 'JobRole_Laboratory Technician',\n",
        "       'JobRole_Manager', 'JobRole_Manufacturing Director',\n",
        "       'JobRole_Research Director', 'JobRole_Research Scientist',\n",
        "       'JobRole_Sales Executive', 'JobRole_Sales Representative',\n",
        "       'MaritalStatus_Divorced', 'MaritalStatus_Married',\n",
        "       'MaritalStatus_Single','Age', 'DailyRate', 'DistanceFromHome',\n",
        "       'Education', 'EnvironmentSatisfaction', 'HourlyRate', 'JobInvolvement',\n",
        "       'JobLevel', 'JobSatisfaction', 'MonthlyIncome', 'MonthlyRate',\n",
        "       'NumCompaniesWorked', 'OverTime', 'PercentSalaryHike',\n",
        "       'PerformanceRating', 'RelationshipSatisfaction', 'StockOptionLevel',\n",
        "       'TotalWorkingYears', 'TrainingTimesLastYear', 'WorkLifeBalance',\n",
        "       'YearsAtCompany', 'YearsInCurrentRole', 'YearsSinceLastPromotion',\n",
        "       'YearsWithCurrManager']]\n",
        "\n",
        "# Coluna Alvo\n",
        "y = base['Attrition']\n",
        "\n",
        "# Normalizando os dados para que os algoritmos não considerem alguns atributos mais importantes que outros:\n",
        "from sklearn.preprocessing import MinMaxScaler\n",
        "scaler = MinMaxScaler()\n",
        "X = scaler.fit_transform(X)\n",
        "\n",
        "# Criando o modelo de Regressão Logística\n",
        "rl = LogisticRegression(random_state=42)\n",
        "\n",
        "# Criando o SMOTE para balanceamento das classes\n",
        "from imblearn.over_sampling import SMOTE\n",
        "smt = SMOTE(random_state=42)\n",
        "X, y = smt.fit_resample(X, y)\n",
        "\n",
        "# Separando em treino/teste\n",
        "from sklearn.model_selection import train_test_split\n",
        "X_treino, X_teste, y_treino, y_teste = train_test_split(X , y, test_size=0.25, random_state=42)\n",
        "\n",
        "# Treinando o modelo\n",
        "rl.fit(X_treino, y_treino)\n",
        "\n",
        "# Fazendo previsões\n",
        "y_pred = rl.predict(X_teste)\n",
        "\n",
        "# Imprimindo o relatório de classificação e a matriz de confusão\n",
        "print(classification_report(y_teste, y_pred))\n",
        "print('-' * 20)\n",
        "print(pd.crosstab(y_teste, y_pred, rownames=['Real'], colnames=['Predito'], margins=True))\n"
      ],
      "metadata": {
        "colab": {
          "base_uri": "https://localhost:8080/"
        },
        "id": "-gjjkILk9XwE",
        "outputId": "59332a8c-ad26-4a5b-e5e0-9706221a9a82"
      },
      "execution_count": 30,
      "outputs": [
        {
          "output_type": "stream",
          "name": "stdout",
          "text": [
            "              precision    recall  f1-score   support\n",
            "\n",
            "           0       0.79      0.75      0.77       311\n",
            "           1       0.76      0.80      0.78       306\n",
            "\n",
            "    accuracy                           0.77       617\n",
            "   macro avg       0.77      0.77      0.77       617\n",
            "weighted avg       0.77      0.77      0.77       617\n",
            "\n",
            "--------------------\n",
            "Predito    0    1  All\n",
            "Real                  \n",
            "0        233   78  311\n",
            "1         62  244  306\n",
            "All      295  322  617\n"
          ]
        }
      ]
    },
    {
      "cell_type": "markdown",
      "source": [
        "Verificando o Overfeating:"
      ],
      "metadata": {
        "id": "H16ee861yM6u"
      }
    },
    {
      "cell_type": "code",
      "source": [
        "# Função para plotar curvas de aprendizado\n",
        "def plot_learning_curve(estimator, title, X, y, ylim=None, cv=None, n_jobs=None, train_sizes=np.linspace(.1, 1.0, 5)):\n",
        "    plt.figure()\n",
        "    plt.title(title)\n",
        "    if ylim is not None:\n",
        "        plt.ylim(*ylim)\n",
        "    plt.xlabel(\"Exemplos de Treino\")\n",
        "    plt.ylabel(\"Score\")\n",
        "    train_sizes, train_scores, test_scores = learning_curve(\n",
        "        estimator, X, y, cv=cv, n_jobs=n_jobs, train_sizes=train_sizes)\n",
        "    train_scores_mean = np.mean(train_scores, axis=1)\n",
        "    train_scores_std = np.std(train_scores, axis=1)\n",
        "    test_scores_mean = np.mean(test_scores, axis=1)\n",
        "    test_scores_std = np.std(test_scores, axis=1)\n",
        "    plt.grid()\n",
        "\n",
        "    plt.fill_between(train_sizes, train_scores_mean - train_scores_std,\n",
        "                     train_scores_mean + train_scores_std, alpha=0.1,\n",
        "                     color=\"r\")\n",
        "    plt.fill_between(train_sizes, test_scores_mean - test_scores_std,\n",
        "                     test_scores_mean + test_scores_std, alpha=0.1, color=\"g\")\n",
        "    plt.plot(train_sizes, train_scores_mean, 'o-', color=\"r\",\n",
        "             label=\"Score de Treino\")\n",
        "    plt.plot(train_sizes, test_scores_mean, 'o-', color=\"g\",\n",
        "             label=\"Score de Validação Cruzada\")\n",
        "\n",
        "    plt.legend(loc=\"best\")\n",
        "    return plt\n",
        "\n",
        "# Calcula curvas de aprendizado\n",
        "title = \"Curvas de aprendizado (Regressão Logística com SMOTE)\"\n",
        "plot_learning_curve(rl, title, X, y, cv=5, n_jobs=-1)\n",
        "plt.show()\n",
        "\n",
        "# Calcula e imprime métricas de desempenho\n",
        "y_train_pred = rl.predict(X_treino)\n",
        "y_test_pred = rl.predict(X_teste)\n",
        "\n",
        "print(\"Métricas de desempenho nos dados de treino:\")\n",
        "print(\"Accuracy:\", accuracy_score(y_treino, y_train_pred))\n",
        "print(\"Precision:\", precision_score(y_treino, y_train_pred))\n",
        "print(\"Recall:\", recall_score(y_treino, y_train_pred))\n",
        "print(\"F1 Score:\", f1_score(y_treino, y_train_pred))\n",
        "\n",
        "print(\"\\nMétricas de desempenho nos dados de teste:\")\n",
        "print(\"Accuracy:\", accuracy_score(y_teste, y_test_pred))\n",
        "print(\"Precision:\", precision_score(y_teste, y_test_pred))\n",
        "print(\"Recall:\", recall_score(y_teste, y_test_pred))\n",
        "print(\"F1 Score:\", f1_score(y_teste, y_test_pred))\n"
      ],
      "metadata": {
        "colab": {
          "base_uri": "https://localhost:8080/",
          "height": 672
        },
        "id": "ZdKj3_jYwj05",
        "outputId": "e9d91a4f-1310-4cf5-aebe-fcf17edfa9ba"
      },
      "execution_count": 31,
      "outputs": [
        {
          "output_type": "display_data",
          "data": {
            "text/plain": [
              "<Figure size 640x480 with 1 Axes>"
            ],
            "image/png": "[encoded data removed]"
          },
          "metadata": {}
        },
        {
          "output_type": "stream",
          "name": "stdout",
          "text": [
            "Métricas de desempenho nos dados de treino:\n",
            "Accuracy: 0.8171984856679286\n",
            "Precision: 0.8058151609553479\n",
            "Recall: 0.837108953613808\n",
            "F1 Score: 0.8211640211640212\n",
            "\n",
            "Métricas de desempenho nos dados de teste:\n",
            "Accuracy: 0.773095623987034\n",
            "Precision: 0.7577639751552795\n",
            "Recall: 0.7973856209150327\n",
            "F1 Score: 0.7770700636942675\n"
          ]
        }
      ]
    },
    {
      "cell_type": "markdown",
      "source": [
        "Os desempenho nas bases de treino e teste estão semelhantes, portanto **não há Overfeating**."
      ],
      "metadata": {
        "id": "DB_4iSFSyP7Q"
      }
    },
    {
      "cell_type": "markdown",
      "source": [
        "###### XGBoost"
      ],
      "metadata": {
        "id": "b-XK7qwz3PWk"
      }
    },
    {
      "cell_type": "code",
      "source": [
        "# Separando previsores e a coluna alvo\n",
        "\n",
        "# Previsores\n",
        "X = base[['BusinessTravel_Non-Travel', 'BusinessTravel_Travel_Frequently',\n",
        "       'BusinessTravel_Travel_Rarely', 'Department_Human Resources',\n",
        "       'Department_Research & Development', 'Department_Sales',\n",
        "       'EducationField_Human Resources', 'EducationField_Life Sciences',\n",
        "       'EducationField_Marketing', 'EducationField_Medical',\n",
        "       'EducationField_Other', 'EducationField_Technical Degree',\n",
        "       'Gender_Female', 'Gender_Male', 'JobRole_Healthcare Representative',\n",
        "       'JobRole_Human Resources', 'JobRole_Laboratory Technician',\n",
        "       'JobRole_Manager', 'JobRole_Manufacturing Director',\n",
        "       'JobRole_Research Director', 'JobRole_Research Scientist',\n",
        "       'JobRole_Sales Executive', 'JobRole_Sales Representative',\n",
        "       'MaritalStatus_Divorced', 'MaritalStatus_Married',\n",
        "       'MaritalStatus_Single','Age', 'DailyRate', 'DistanceFromHome',\n",
        "       'Education', 'EnvironmentSatisfaction', 'HourlyRate', 'JobInvolvement',\n",
        "       'JobLevel', 'JobSatisfaction', 'MonthlyIncome', 'MonthlyRate',\n",
        "       'NumCompaniesWorked', 'OverTime', 'PercentSalaryHike',\n",
        "       'PerformanceRating', 'RelationshipSatisfaction', 'StockOptionLevel',\n",
        "       'TotalWorkingYears', 'TrainingTimesLastYear', 'WorkLifeBalance',\n",
        "       'YearsAtCompany', 'YearsInCurrentRole', 'YearsSinceLastPromotion',\n",
        "       'YearsWithCurrManager']]\n",
        "\n",
        "# Coluna Alvo\n",
        "y = base['Attrition']\n",
        "\n",
        "# Normalizando os dados para que os algoritmos não considerem alguns atributos mais importantes que outros:\n",
        "from sklearn.preprocessing import MinMaxScaler\n",
        "scaler = MinMaxScaler()\n",
        "X = scaler.fit_transform(X)\n",
        "\n",
        "# Criando o modelo XGBoost\n",
        "xgb = XGBClassifier(random_state=42)\n",
        "\n",
        "# Criando o SMOTE para balanceamento das classes\n",
        "from imblearn.over_sampling import SMOTE\n",
        "smt = SMOTE(random_state = 42)\n",
        "X, y = smt.fit_resample(X, y)\n",
        "\n",
        "# Separando em treino/teste\n",
        "from sklearn.model_selection import train_test_split\n",
        "X_treino, X_teste, y_treino, y_teste = train_test_split(X , y, test_size=0.25, random_state=42)\n",
        "\n",
        "# Treinando o modelo\n",
        "xgb.fit(X_treino, y_treino)\n",
        "\n",
        "# Fazendo previsões\n",
        "y_pred = xgb.predict(X_teste)\n",
        "\n",
        "# Imprimindo o relatório de classificação e a matriz de confusão\n",
        "print(classification_report(y_teste, y_pred))\n",
        "print('-' * 20)\n",
        "print(pd.crosstab(y_teste, y_pred, rownames=['Real'], colnames=['Predito'], margins=True))\n"
      ],
      "metadata": {
        "colab": {
          "base_uri": "https://localhost:8080/"
        },
        "id": "pUCb9ed08zKV",
        "outputId": "12ab2636-3f0b-4ee9-cbc1-66b96c1839e9"
      },
      "execution_count": 32,
      "outputs": [
        {
          "output_type": "stream",
          "name": "stdout",
          "text": [
            "              precision    recall  f1-score   support\n",
            "\n",
            "           0       0.89      0.96      0.92       311\n",
            "           1       0.96      0.88      0.92       306\n",
            "\n",
            "    accuracy                           0.92       617\n",
            "   macro avg       0.92      0.92      0.92       617\n",
            "weighted avg       0.92      0.92      0.92       617\n",
            "\n",
            "--------------------\n",
            "Predito    0    1  All\n",
            "Real                  \n",
            "0        299   12  311\n",
            "1         37  269  306\n",
            "All      336  281  617\n"
          ]
        }
      ]
    },
    {
      "cell_type": "code",
      "source": [
        "# Função para plotar curvas de aprendizado\n",
        "def plot_learning_curve(estimator, title, X, y, ylim=None, cv=None, n_jobs=None, train_sizes=np.linspace(.1, 1.0, 5)):\n",
        "    plt.figure()\n",
        "    plt.title(title)\n",
        "    if ylim is not None:\n",
        "        plt.ylim(*ylim)\n",
        "    plt.xlabel(\"Exemplos de Treino\")\n",
        "    plt.ylabel(\"Score\")\n",
        "    train_sizes, train_scores, test_scores = learning_curve(\n",
        "        estimator, X, y, cv=cv, n_jobs=n_jobs, train_sizes=train_sizes)\n",
        "    train_scores_mean = np.mean(train_scores, axis=1)\n",
        "    train_scores_std = np.std(train_scores, axis=1)\n",
        "    test_scores_mean = np.mean(test_scores, axis=1)\n",
        "    test_scores_std = np.std(test_scores, axis=1)\n",
        "    plt.grid()\n",
        "\n",
        "    plt.fill_between(train_sizes, train_scores_mean - train_scores_std,\n",
        "                     train_scores_mean + train_scores_std, alpha=0.1,\n",
        "                     color=\"r\")\n",
        "    plt.fill_between(train_sizes, test_scores_mean - test_scores_std,\n",
        "                     test_scores_mean + test_scores_std, alpha=0.1, color=\"g\")\n",
        "    plt.plot(train_sizes, train_scores_mean, 'o-', color=\"r\",\n",
        "             label=\"Score de Treino\")\n",
        "    plt.plot(train_sizes, test_scores_mean, 'o-', color=\"g\",\n",
        "             label=\"Score de Validação Cruzada\")\n",
        "\n",
        "    plt.legend(loc=\"best\")\n",
        "    return plt\n",
        "\n",
        "# Calcula curvas de aprendizado\n",
        "title = \"Curvas de Aprendizado (XGBoost com SMOTE)\"\n",
        "plot_learning_curve(xgb, title, X, y, cv=5, n_jobs=-1)\n",
        "plt.show()\n",
        "\n",
        "# Calcula e imprime métricas de desempenho\n",
        "from sklearn.metrics import accuracy_score, precision_score, recall_score, f1_score\n",
        "y_train_pred = xgb.predict(X_treino)\n",
        "y_test_pred = xgb.predict(X_teste)\n",
        "\n",
        "print(\"Métricas de desempenho nos dados de treino:\")\n",
        "print(\"Accuracy:\", accuracy_score(y_treino, y_train_pred))\n",
        "print(\"Precision:\", precision_score(y_treino, y_train_pred))\n",
        "print(\"Recall:\", recall_score(y_treino, y_train_pred))\n",
        "print(\"F1 Score:\", f1_score(y_treino, y_train_pred))\n",
        "\n",
        "print(\"\\nMétricas de desempenho nos dados de teste:\")\n",
        "print(\"Accuracy:\", accuracy_score(y_teste, y_test_pred))\n",
        "print(\"Precision:\", precision_score(y_teste, y_test_pred))\n",
        "print(\"Recall:\", recall_score(y_teste, y_test_pred))\n",
        "print(\"F1 Score:\", f1_score(y_teste, y_test_pred))\n"
      ],
      "metadata": {
        "colab": {
          "base_uri": "https://localhost:8080/",
          "height": 672
        },
        "id": "_6qmb8DEwO7Z",
        "outputId": "bc94283a-b70d-458c-d6bb-78d6a99d0aeb"
      },
      "execution_count": 33,
      "outputs": [
        {
          "output_type": "display_data",
          "data": {
            "text/plain": [
              "<Figure size 640x480 with 1 Axes>"
            ],
            "image/png": "[encoded data removed]"
          },
          "metadata": {}
        },
        {
          "output_type": "stream",
          "name": "stdout",
          "text": [
            "Métricas de desempenho nos dados de treino:\n",
            "Accuracy: 1.0\n",
            "Precision: 1.0\n",
            "Recall: 1.0\n",
            "F1 Score: 1.0\n",
            "\n",
            "Métricas de desempenho nos dados de teste:\n",
            "Accuracy: 0.9205834683954619\n",
            "Precision: 0.9572953736654805\n",
            "Recall: 0.8790849673202614\n",
            "F1 Score: 0.9165247018739352\n"
          ]
        }
      ]
    },
    {
      "cell_type": "markdown",
      "source": [
        "Como há uma grande diferença entre as bases de treino e teste, é possível concluir que há **Overfeating**"
      ],
      "metadata": {
        "id": "px2exaHKycxU"
      }
    },
    {
      "cell_type": "markdown",
      "source": [
        "Vamos criar um DataFrame para armazenar esses resultados"
      ],
      "metadata": {
        "id": "FYEavCLuu0RO"
      }
    },
    {
      "cell_type": "code",
      "source": [
        "# Definir os dados do classification_report\n",
        "data = {\n",
        "    'recall_0': [0.78],\n",
        "    'recall_1': [0.78],\n",
        "    'f1_score_0': [0.78],\n",
        "    'f1_score_1': [0.78],\n",
        "    'overfitting': ['No']\n",
        "}\n",
        "\n",
        "# Criar o DataFrame\n",
        "desempenho_modelos_balanceados = pd.DataFrame(data, index=['rl_under'])\n",
        "\n",
        "# Atualizando o DataFrame de desempenho\n",
        "data_xgb_under = {\n",
        "    'recall_0': 0.69,\n",
        "    'recall_1': 0.80,\n",
        "    'f1_score_0': 0.73,\n",
        "    'f1_score_1': 0.76,\n",
        "    'overfitting': 'Yes'\n",
        "}\n",
        "\n",
        "desempenho_modelos_balanceados.loc['xgb_under'] = data_xgb_under\n",
        "\n",
        "data_rl_over = {\n",
        "    'recall_0': 0.75,\n",
        "    'recall_1': 0.80,\n",
        "    'f1_score_0': 0.77,\n",
        "    'f1_score_1': 0.78,\n",
        "    'overfitting': 'No'\n",
        "}\n",
        "\n",
        "desempenho_modelos_balanceados.loc['rl_over'] = data_rl_over\n",
        "\n",
        "data_xgb_over = {\n",
        "    'recall_0': 0.96,\n",
        "    'recall_1': 0.88,\n",
        "    'f1_score_0': 0.92,\n",
        "    'f1_score_1': 0.92,\n",
        "    'overfitting': 'Yes'\n",
        "}\n",
        "\n",
        "desempenho_modelos_balanceados.loc['xgb_over'] = data_xgb_over\n",
        "\n",
        "# Exibir o DataFrame\n",
        "print(desempenho_modelos_balanceados)\n"
      ],
      "metadata": {
        "colab": {
          "base_uri": "https://localhost:8080/"
        },
        "id": "_QX4GpgPuzMx",
        "outputId": "d9cec837-03c9-4d7d-e0db-1cdfa7a5ac0a"
      },
      "execution_count": 34,
      "outputs": [
        {
          "output_type": "stream",
          "name": "stdout",
          "text": [
            "           recall_0  recall_1  f1_score_0  f1_score_1 overfitting\n",
            "rl_under       0.78      0.78        0.78        0.78          No\n",
            "xgb_under      0.69      0.80        0.73        0.76         Yes\n",
            "rl_over        0.75      0.80        0.77        0.78          No\n",
            "xgb_over       0.96      0.88        0.92        0.92         Yes\n"
          ]
        }
      ]
    },
    {
      "cell_type": "markdown",
      "source": [
        "#### Relatório do Balanceamento\n",
        "\n"
      ],
      "metadata": {
        "id": "TEsopWr53ZQ2"
      }
    },
    {
      "cell_type": "markdown",
      "source": [
        "Relatório de Desempenho dos Modelos com Técnicas de Oversampling e Undersampling\n",
        "\n",
        "Após aplicar as técnicas de oversampling e undersampling nos modelos de Regressão Logística (rl) e XGBoost (xgb) para lidar com o desbalanceamento de classes em minha análise de churn, obtive os seguintes resultados:\n",
        "\n",
        "**rl_under:**\n",
        "\n",
        "- Recall_0: 0.78\n",
        "- Recall_1: 0.78\n",
        "- F1 Score_0: 0.78\n",
        "- F1 Score_1: 0.78\n",
        "- Overfitting: Não\n",
        "\n",
        "**xgb_under:**\n",
        "\n",
        "- Recall_0: 0.69\n",
        "- Recall_1: 0.80\n",
        "- F1 Score_0: 0.73\n",
        "- F1 Score_1: 0.76\n",
        "- Overfitting: Sim\n",
        "\n",
        "**rl_over:**\n",
        "\n",
        "- Recall_0: 0.75\n",
        "- Recall_1: 0.80\n",
        "- F1 Score_0: 0.77\n",
        "- F1 Score_1: 0.78\n",
        "- Overfitting: Não\n",
        "\n",
        "**xgb_over:**\n",
        "\n",
        "- Recall_0: 0.96\n",
        "- Recall_1: 0.88\n",
        "- F1 Score_0: 0.92\n",
        "- F1 Score_1: 0.92\n",
        "- Overfitting: Sim\n",
        "\n",
        "Após avaliar o desempenho dos modelos, escolhi o modelo de Regressão Logística com a técnica de oversampling (**rl_over**) devido ao fato de não apresentar overfitting e ter um desempenho superior na métrica recall_1, que é crucial para identificar os casos de churn e evitá-los. Este modelo equilibra bem a capacidade de generalização e o desempenho na classe de interesse.\n",
        "\n",
        "Após essa etapa, o modelo alcançou níveis satisfatórios de desempenho, demonstrando sua capacidade de prever com precisão os casos de churn de funcionários. Na próxima etapa, irei salvar o classificador treinado e apresentar como sua implementação pode impactar positivamente a empresa. Ao aplicar o modelo aos dados em tempo real, a empresa poderá identificar os funcionários com maior probabilidade de deixar a organização e adotar medidas proativas para retê-los. Isso não apenas reduzirá os custos associados à rotatividade de funcionários, como também poderá melhorar a moral e a produtividade da equipe, resultando em benefícios financeiros significativos a longo prazo.\n",
        "\n"
      ],
      "metadata": {
        "id": "NnCQNytj0RUs"
      }
    },
    {
      "cell_type": "markdown",
      "source": [
        "#### Salvando o Classificador"
      ],
      "metadata": {
        "id": "Nwc2uRrQ3c4_"
      }
    },
    {
      "cell_type": "markdown",
      "source": [
        "Irei salvar o classificador de Regressão Logística com Oversampling nesse [notebook](https://colab.research.google.com/drive/1S-_rbapsjpPYPGdhGEpMADXof8jchocU). Este modelo mostrou uma ótima capacidade de lidar com o desbalanceamento da base de dados e obteve resultados superiores na predição de churn de funcionários. Sua escolha se baseia em sua eficácia, generalização e interpretabilidade, aspectos cruciais para sua aplicação prática e entendimento pelos gestores. Espero que esse modelo contribua significativamente para a redução do churn e para o sucesso financeiro da empresa."
      ],
      "metadata": {
        "id": "OuQVKF7D1MQN"
      }
    }
  ],
  "metadata": {
    "colab": {
      "provenance": []
    },
    "kernelspec": {
      "display_name": "Python 3",
      "name": "python3"
    },
    "language_info": {
      "name": "python"
    }
  },
  "nbformat": 4,
  "nbformat_minor": 0
}